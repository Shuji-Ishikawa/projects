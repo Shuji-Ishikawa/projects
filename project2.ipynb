{
  "nbformat": 4,
  "nbformat_minor": 0,
  "metadata": {
    "colab": {
      "provenance": [],
      "authorship_tag": "ABX9TyO5m8JOwQZOxARwa3X+o+Cg",
      "include_colab_link": true
    },
    "kernelspec": {
      "name": "python3",
      "display_name": "Python 3"
    },
    "language_info": {
      "name": "python"
    }
  },
  "cells": [
    {
      "cell_type": "markdown",
      "metadata": {
        "id": "view-in-github",
        "colab_type": "text"
      },
      "source": [
        "<a href=\"https://colab.research.google.com/github/Shuji-Ishikawa/projects/blob/main/project2.ipynb\" target=\"_parent\"><img src=\"https://colab.research.google.com/assets/colab-badge.svg\" alt=\"Open In Colab\"/></a>"
      ]
    },
    {
      "cell_type": "code",
      "source": [
        "import pandas as pd\n",
        "import matplotlib.pyplot as plt\n",
        "import numpy as np\n",
        "\n",
        "# Load data\n",
        "pwt1001 = pd.read_stata('https://dataverse.nl/api/access/datafile/354098')\n",
        "\n",
        "# Filter and select relevant columns\n",
        "data = pwt1001.loc[pwt1001['country'].isin(['France','Germany', 'Canada', 'Italy', 'Japan', 'United Kingdom', 'United States'])][['year', 'countrycode', 'rgdpna', 'rkna', 'pop', 'emp', 'avh', 'labsh', 'rtfpna']]\n",
        "data = data.loc[(data['year'] >= 1995) & (data['year'] <= 2019)].dropna()\n",
        "\n",
        "# Calculate additional columns\n",
        "data['y_pc'] = np.log(data['rgdpna'] / data['emp'])  # GDP per worker\n",
        "data['k_pc'] = np.log(data['rkna'] / data['emp'])  # Capital per worker\n",
        "data['Capital Share'] = 1 - data['labsh']  # Capital share\n",
        "data['TFP Share'] = data['labsh']\n",
        "\n",
        "# Order by year\n",
        "data = data.sort_values('year')\n",
        "\n",
        "# Group by isocode\n",
        "grouped_data = data.groupby('countrycode')\n",
        "\n",
        "# Calculate growth rates and Solow residual\n",
        "data['Growth Rate'] = (grouped_data['y_pc'].diff() * 100)  # Growth rate of GDP per capita\n",
        "\n",
        "data['TFPgrowth'] = data['Growth Rate'] * data['TFP Share']\n",
        "data['Capital Deeping'] = data['Growth Rate'] - data['TFPgrowth'] \n",
        "\n",
        "# Remove missing values\n",
        "data = data.dropna()\n",
        "\n",
        "# Calculate summary statistics\n",
        "summary = data.groupby('countrycode').agg({'Growth Rate': 'mean',\n",
        "                                        'TFPgrowth':'mean',\n",
        "                                        'Capital Deeping':'mean',\n",
        "                                        'TFP Share':'mean',\n",
        "                                       'Capital Share': \"mean\",\n",
        "                                       })\n",
        "\n",
        "summary.loc['Average'] = np.nan\n",
        "summary.loc['Average',:]= summary.mean()\n",
        "\n",
        "# Print output\n",
        "print(summary)"
      ],
      "metadata": {
        "id": "VZANKf4vx8R6",
        "colab": {
          "base_uri": "https://localhost:8080/"
        },
        "outputId": "6b2b766e-4c8c-4d3c-f1f9-da98f233ef04"
      },
      "execution_count": null,
      "outputs": [
        {
          "output_type": "stream",
          "name": "stdout",
          "text": [
            "             Growth Rate  TFPgrowth  Capital Deeping  TFP Share  Capital Share\n",
            "countrycode                                                                   \n",
            "CAN             0.887700   0.580760         0.306940   0.653810       0.346190\n",
            "DEU             0.661055   0.411357         0.249698   0.629270       0.370730\n",
            "FRA             0.829236   0.512309         0.316927   0.618806       0.381194\n",
            "GBR             1.015544   0.588315         0.427229   0.587007       0.412993\n",
            "ITA            -0.037181  -0.019589        -0.017592   0.515165       0.484835\n",
            "JPN             0.710956   0.405471         0.305485   0.569399       0.430601\n",
            "USA             1.536985   0.939222         0.597763   0.606740       0.393260\n",
            "Average         0.800614   0.488263         0.312350   0.597171       0.402829\n"
          ]
        }
      ]
    },
    {
      "cell_type": "code",
      "source": [],
      "metadata": {
        "id": "dQYaFFDex8O_"
      },
      "execution_count": null,
      "outputs": []
    },
    {
      "cell_type": "code",
      "source": [],
      "metadata": {
        "id": "SigsWBu8x8L-"
      },
      "execution_count": null,
      "outputs": []
    },
    {
      "cell_type": "code",
      "source": [],
      "metadata": {
        "id": "71PbLBaYx8FR"
      },
      "execution_count": null,
      "outputs": []
    },
    {
      "cell_type": "code",
      "source": [],
      "metadata": {
        "id": "dcAIEAVBx7_B"
      },
      "execution_count": null,
      "outputs": []
    }
  ]
}